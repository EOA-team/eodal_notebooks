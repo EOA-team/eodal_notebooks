{
 "cells": [
  {
   "cell_type": "markdown",
   "id": "b00d08bb-c6af-4e88-b51c-9f9afb0631d1",
   "metadata": {
    "tags": []
   },
   "source": [
    "# The EOdal Mapper Class"
   ]
  },
  {
   "cell_type": "code",
   "execution_count": null,
   "id": "93d9a87c-6249-45b9-af52-e4bea294bae3",
   "metadata": {},
   "outputs": [],
   "source": []
  }
 ],
 "metadata": {
  "kernelspec": {
   "display_name": "Python 3 (ipykernel)",
   "language": "python",
   "name": "python3"
  },
  "language_info": {
   "codemirror_mode": {
    "name": "ipython",
    "version": 3
   },
   "file_extension": ".py",
   "mimetype": "text/x-python",
   "name": "python",
   "nbconvert_exporter": "python",
   "pygments_lexer": "ipython3",
   "version": "3.10.8"
  }
 },
 "nbformat": 4,
 "nbformat_minor": 5
}
